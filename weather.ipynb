{
 "cells": [
  {
   "cell_type": "markdown",
   "metadata": {},
   "source": [
    "# Command-Line Operations and Data Handling\n",
    "\n",
    "## Overview\n",
    "This notebook documents a series of command-line tasks designed to practice directory structure creation, timestamp formatting, and data handling. The tasks involve working with timestamps, managing files, and downloading weather data using various shell commands."
   ]
  },
  {
   "cell_type": "markdown",
   "metadata": {},
   "source": [
    "Importing libraries:"
   ]
  },
  {
   "cell_type": "code",
   "execution_count": 1,
   "metadata": {},
   "outputs": [],
   "source": [
    "import pandas as pd "
   ]
  },
  {
   "cell_type": "markdown",
   "metadata": {},
   "source": [
    "## Creating **weather.ipynb**\n",
    "First, I opened Git and set up a workspace in a virtual machine. Using the command line, I created an empty file named `weather.ipynb` with the following command:\n",
    "``` bash\n",
    "touch weather.ipynb\n",
    "```"
   ]
  },
  {
   "cell_type": "markdown",
   "metadata": {},
   "source": [
    "## Task 1: Creating Directory Structure\n",
    "I opened a virtual machine and, using the command line in the terminal, created a new directory with the following command:\n",
    "``` bash\n",
    "mkdir data\n",
    "```\n",
    "Next, I needed to create two subdirectories, timestamps and weather. To do this, I navigated to the data directory:\n",
    "``` bash\n",
    "cd data\n",
    "```\n",
    "Then, I created the subdirectories using the mkdir command:\n",
    "``` bash\n",
    "mkdir timestamps\n",
    "```"
   ]
  },
  {
   "cell_type": "markdown",
   "metadata": {},
   "source": [
    "I can try another method of creating a directory with subdirectories:\n",
    "First, I will remove the data directory using the `rm -r` command. This command removes the directory and its contents, including any subdirectories:\n",
    "```bash\n",
    "rm -r data\n",
    "```\n",
    "Now, I will use the `mkdir -p` command to create the data directory along with its subdirectories (timestamps and weather). The `-p` option ensures that any necessary intermediate directories are created if they don’t already exist. `mkdir -p`: Creates both the data directory and the subdirectories (timestamps and weather), even if the parent directories don't exist.\n",
    "```bash\n",
    "mkdir -p data/timestamps data/weather\n",
    "```"
   ]
  },
  {
   "cell_type": "markdown",
   "metadata": {},
   "source": [
    "## Task 2: Timestamps\n",
    "Navigate to the `data/timestamps` directory:\n",
    "First, I change to the `data/timestamps` directory:\n",
    "```bash\n",
    "cd data/timestamps\n",
    "```\n",
    "Use the date command to append the current timestamp:\n",
    "I use the `date` command with the `>>` operator to append the current date and time to a file named `now.txt`.<br>If `now.txt` does not exist, it will be created automatically:\n",
    "```bash\n",
    "date >> now.txt\n",
    "```\n",
    "The `>>` operator appends the output to the file.\n",
    "The `>` operator would overwrite the file, but `>>` ensures that multiple entries are added instead.\n",
    "\n",
    "Repeat the command 10 times:\n",
    "I repeat the `date >> now.txt` command 10 times to append 10 different timestamps to the `now.txt` file.\n",
    "\n",
    "After appending the timestamps, I use the `more` command to display the contents of `now.txt```and confirm that the file has the expected timestamps:\n",
    "```bash\n",
    "more now.txt\n",
    "```"
   ]
  },
  {
   "cell_type": "markdown",
   "metadata": {},
   "source": [
    "## Git \n",
    "To commit and push the changes I type in the command line:\n",
    "``` bash\n",
    "git add\n",
    "git commit <comment>\n",
    "git push\n",
    "```"
   ]
  },
  {
   "cell_type": "markdown",
   "metadata": {},
   "source": [
    "## Task 3: Formatting Timestamps\n",
    "To learn more about the date command and its options, I opened the manual using:\n",
    "```bash\n",
    "man date\n",
    "```\n",
    "After exploring the manual, I tried different date and time formats. To generate a timestamp in the format **20241023_092605**, I used the following command:\n",
    "```bash\n",
    "date +%Y%m%d_%H%M%S\n",
    "```\n",
    "To save this formatted timestamp in a file, appending it to `formatted.txt` located in the `data/timestamps directory`, I used:\n",
    "```bash\n",
    "date +%Y%m%d_%H%M%S >> data/timestamps/formatted.txt\n",
    "```\n",
    "This command appends the formatted timestamp to the file without overwriting its contents."
   ]
  },
  {
   "cell_type": "markdown",
   "metadata": {},
   "source": [
    "## Task 4: Create Timestamped Files\n",
    "\n",
    "I used the following command to create the file:\n",
    "```bash\n",
    "touch `date +%Y%m%d_%H%M%S`.txt\n",
    "```"
   ]
  },
  {
   "cell_type": "markdown",
   "metadata": {},
   "source": [
    "## Task 5: Download Today's Weather Data\n",
    "In this task, I downloaded the latest weather data for the Athenry weather station from Met Éireann using the **wget** command and save it as `weather.json`.\n",
    "\n",
    "First, I changed to the appropriate directory where I wanted to save the file:\n",
    "```bash\n",
    "cd data/weather\n",
    "```\n",
    "To download the weather data from **Met Éireann**, I used the `wget` command with the `-O` option to specify the output file name:\n",
    "```bash\n",
    "wget -O weather.json https://prodapi.metweb.ie/observations/athenry/today\n",
    "```\n",
    "`-O weather.json`: Ensures the downloaded file is saved with the name `weather.json`.\n",
    "`URL`: The link to the Athenry weather data is https://prodapi.metweb.ie/observations/athenry/today.\n",
    "\n",
    "After the download is complete, confirm that the file has been saved correctly by listing the files in the `data/weather` directory:\n",
    "```bash\n",
    "ls\n",
    "```"
   ]
  },
  {
   "cell_type": "markdown",
   "metadata": {},
   "source": [
    "#### Summary\n",
    "The **wget** command is a tool in Unix-like systems used for downloading files from the web directly via the terminal.\n",
    "**To download a file:**\n",
    "Use the following command to download a file from a specified URL:\n",
    "```bash\n",
    "wget <URL>\n",
    "```\n",
    "**To save the downloaded file with a different name:**\n",
    "You can use the `-O` option to specify the desired file name:\n",
    "```bash\n",
    "wget -O new_filename <URL>\n",
    "```\n",
    "**To download multiple files listed in a text file:**\n",
    "Use the `-i` option followed by the name of the text file containing a list of URLs:\n",
    "```bash\n",
    "wget -i files.txt\n",
    "```"
   ]
  },
  {
   "cell_type": "markdown",
   "metadata": {},
   "source": [
    "\n",
    "## Task 6: Timestamp the Data\n",
    "Modify the command from Task 5 to save the downloaded file with a timestamped name in the format `YYYYmmdd_HHMMSS.json`.\n",
    "\n",
    "To achieve this, you I used backticks to set the timestamp as the filename.\n",
    "```bash\n",
    "wget -O `date +\"%Y%m%d_%H%M%S.json\"` <URL>\n",
    "```\n",
    "This command uses the date command to generate the current timestamp in the desired format and passes it to `wget` as the filename."
   ]
  },
  {
   "cell_type": "markdown",
   "metadata": {},
   "source": [
    "## Task 7: Write the Script\n",
    "'Write a bash script called **weather.sh** in the root of your repository. This script should automate the process from Task 6, saving the weather data to the `data/weather` directory. Make the script executable and test it by running it.'"
   ]
  },
  {
   "cell_type": "markdown",
   "metadata": {},
   "source": [
    "1. In the root directory, I created a new file named `weather.sh`.\n",
    "2. I opened the `weather.sh` file and started the script with a shebang (#!), which specifies the interpreter to use for the script. In this case, I used `/bin/bash`, indicating that it’s a Bash script:\n",
    "\n",
    "```bash\n",
    "#!/bin/bash\n",
    "```\n",
    "3. Next, I added the `wget` command to fetch the weather data from the specified URL. The data is saved with a timestamped filename:\n",
    "```bash\n",
    "wget -O data/weather/`date +\"%Y%m%d_%H%M%S.json\"` https://prodapi.metweb.ie/observations/athenry/today\n",
    "```\n",
    "4. After saving `weather.sh`, I checked the files in the directory using the command:\n",
    "```bash\n",
    "ls -al\n",
    "```\n",
    "This command provides detailed information about the file permissions and ownership.<br>Files are displayed with codes such as:\n",
    "`r` (read), `w` (write), and `x` (execute) indicate permission levels for the user, group, and others.\n",
    "`d` at the beginning indicates a directory, while a dash `-` indicates a file.\n",
    "5. To allow `weather.sh` to be executed, I modified its permissions using `chmod`. The `u+x` option grants execute permission to the user (owner):\n",
    "```bash\n",
    "chmod u+x weather.sh\n",
    "```\n",
    "This makes `weather.sh` an executable script.\n",
    "\n",
    "Now that the script is executable, I can run it using the following command:\n",
    "```bash\n",
    "./weather.sh\n",
    "```\n",
    "The `./` in a command refers to the current directory. When used `./` before a script or program name, it tells the system to look for the executable in the current directory rather than searching through directories listed in the system’s $PATH.\n"
   ]
  },
  {
   "cell_type": "markdown",
   "metadata": {},
   "source": [
    "## Task 8: Notebook\n",
    "The notebook with description created."
   ]
  },
  {
   "cell_type": "markdown",
   "metadata": {},
   "source": [
    "## Task 9: pandas\n",
    "'In the `weather.ipynb` notebook, use the **pandas** function `read_json()` to load in any one of the weather data files you have downloaded with your script. Examine and summarize the data. Use the information provided [data.gov.ie](https://data.gov.ie/dataset/todays-weather-athenry) to write a short explanation of what the data set contains.'"
   ]
  },
  {
   "cell_type": "markdown",
   "metadata": {},
   "source": [
    "I use the **read_json()** function from pandas to load one of the weather data files."
   ]
  },
  {
   "cell_type": "code",
   "execution_count": 2,
   "metadata": {},
   "outputs": [
    {
     "data": {
      "text/html": [
       "<div>\n",
       "<style scoped>\n",
       "    .dataframe tbody tr th:only-of-type {\n",
       "        vertical-align: middle;\n",
       "    }\n",
       "\n",
       "    .dataframe tbody tr th {\n",
       "        vertical-align: top;\n",
       "    }\n",
       "\n",
       "    .dataframe thead th {\n",
       "        text-align: right;\n",
       "    }\n",
       "</style>\n",
       "<table border=\"1\" class=\"dataframe\">\n",
       "  <thead>\n",
       "    <tr style=\"text-align: right;\">\n",
       "      <th></th>\n",
       "      <th>name</th>\n",
       "      <th>temperature</th>\n",
       "      <th>symbol</th>\n",
       "      <th>weatherDescription</th>\n",
       "      <th>text</th>\n",
       "      <th>windSpeed</th>\n",
       "      <th>windGust</th>\n",
       "      <th>cardinalWindDirection</th>\n",
       "      <th>windDirection</th>\n",
       "      <th>humidity</th>\n",
       "      <th>rainfall</th>\n",
       "      <th>pressure</th>\n",
       "      <th>dayName</th>\n",
       "      <th>date</th>\n",
       "      <th>reportTime</th>\n",
       "    </tr>\n",
       "  </thead>\n",
       "  <tbody>\n",
       "    <tr>\n",
       "      <th>0</th>\n",
       "      <td>Athenry</td>\n",
       "      <td>13</td>\n",
       "      <td>04n</td>\n",
       "      <td>Cloudy</td>\n",
       "      <td>\"Cloudy\"</td>\n",
       "      <td>11</td>\n",
       "      <td>-</td>\n",
       "      <td>SE</td>\n",
       "      <td>135</td>\n",
       "      <td>86</td>\n",
       "      <td>0</td>\n",
       "      <td>1022</td>\n",
       "      <td>Friday</td>\n",
       "      <td>2024-08-11</td>\n",
       "      <td>00:00</td>\n",
       "    </tr>\n",
       "    <tr>\n",
       "      <th>1</th>\n",
       "      <td>Athenry</td>\n",
       "      <td>13</td>\n",
       "      <td>04n</td>\n",
       "      <td>Cloudy</td>\n",
       "      <td>\"Cloudy\"</td>\n",
       "      <td>13</td>\n",
       "      <td>-</td>\n",
       "      <td>SE</td>\n",
       "      <td>135</td>\n",
       "      <td>87</td>\n",
       "      <td>0</td>\n",
       "      <td>1021</td>\n",
       "      <td>Friday</td>\n",
       "      <td>2024-08-11</td>\n",
       "      <td>01:00</td>\n",
       "    </tr>\n",
       "    <tr>\n",
       "      <th>13</th>\n",
       "      <td>Athenry</td>\n",
       "      <td>14</td>\n",
       "      <td>04d</td>\n",
       "      <td>Cloudy</td>\n",
       "      <td>\"Cloudy\"</td>\n",
       "      <td>9</td>\n",
       "      <td>-</td>\n",
       "      <td>SE</td>\n",
       "      <td>135</td>\n",
       "      <td>81</td>\n",
       "      <td>0</td>\n",
       "      <td>1020</td>\n",
       "      <td>Friday</td>\n",
       "      <td>2024-08-11</td>\n",
       "      <td>13:00</td>\n",
       "    </tr>\n",
       "  </tbody>\n",
       "</table>\n",
       "</div>"
      ],
      "text/plain": [
       "       name  temperature symbol weatherDescription      text  windSpeed  \\\n",
       "0   Athenry           13    04n             Cloudy  \"Cloudy\"         11   \n",
       "1   Athenry           13    04n             Cloudy  \"Cloudy\"         13   \n",
       "13  Athenry           14    04d             Cloudy  \"Cloudy\"          9   \n",
       "\n",
       "   windGust cardinalWindDirection  windDirection  humidity  rainfall  \\\n",
       "0         -                    SE            135        86         0   \n",
       "1         -                    SE            135        87         0   \n",
       "13        -                    SE            135        81         0   \n",
       "\n",
       "    pressure dayName       date reportTime  \n",
       "0       1022  Friday 2024-08-11      00:00  \n",
       "1       1021  Friday 2024-08-11      01:00  \n",
       "13      1020  Friday 2024-08-11      13:00  "
      ]
     },
     "metadata": {},
     "output_type": "display_data"
    },
    {
     "data": {
      "text/plain": [
       "Index(['name', 'temperature', 'symbol', 'weatherDescription', 'text',\n",
       "       'windSpeed', 'windGust', 'cardinalWindDirection', 'windDirection',\n",
       "       'humidity', 'rainfall', 'pressure', 'dayName', 'date', 'reportTime'],\n",
       "      dtype='object')"
      ]
     },
     "execution_count": 2,
     "metadata": {},
     "output_type": "execute_result"
    }
   ],
   "source": [
    "# Saving the data into a dataframe\n",
    "data = pd.read_json('data/weather/20241108_162627.json')\n",
    "\n",
    "# Checking the data\n",
    "display(data.sample(3))\n",
    "\n",
    "# Checking the columns\n",
    "data.columns"
   ]
  },
  {
   "cell_type": "markdown",
   "metadata": {},
   "source": [
    "\n",
    "### The dataset contains the following information in its columns:\n",
    "**name**:\n",
    "The name of the weather station or location where the data was recorded.<br>\n",
    "**temperature**:<br>\n",
    "This column holds the current temperature measured in Celsius (°C).<br>\n",
    "**symbol**:<br>\n",
    "This column may contain a code or symbol representing the current weather condition (e.g., a sun, cloud, or rain icon). It is a visual representation of the weather.<br>\n",
    "**weatherDescription**:<br>\n",
    "A textual description of the weather condition at the time of the observation. For example, \"Cloudy\".<br>\n",
    "**windSpeed**:<br>\n",
    "This column represents the speed of the wind measured in kilometers per hour (km/h).<br>\n",
    "**windGust**:<br>\n",
    "This column contains the wind gust speed, representing short bursts or increases in wind speed measured in kilometers per hour (km/h).<br>\n",
    "**cardinalWindDirection**:<br>\n",
    "This column indicates the general wind direction using the cardinal directions (Southeast, Northwest).<br>\n",
    "**windDirection**:<br>\n",
    "This column provides a more precise wind direction, often expressed in degrees, where 0° corresponds to North, 90° to East, 180° to South, and 270° to West.<br>\n",
    "**humidity**:<br>\n",
    "The percentage of moisture in the air at the time of the observation. It is usually given as a percentage (0-100%), where 100% represents fully saturated air (i.e., fog or rain).<br>\n",
    "**rainfall**:<br>\n",
    "This column shows the amount of rain that has fallen over a certain period of time (e.g., in millimeters).<br>\n",
    "**pressure**:<br>\n",
    "Atmospheric pressure recorded at the weather station, typically given in hectopascals (hPa).<br>\n",
    "**dayName**:<br>\n",
    "The name of the day of the week (e.g., Monday, Tuesday, etc.) on which the observation was taken.<br>\n",
    "**date**:<br>\n",
    "The specific date when the weather observation was recorded, often formatted as YYYY-MM-DD.<br>\n",
    "**reportTime**:<br>\n",
    "The exact time at which the weather observation was reported, typically in HH:MM:SS format. This shows the time of the day when the data was logged.<br>"
   ]
  },
  {
   "cell_type": "code",
   "execution_count": 3,
   "metadata": {},
   "outputs": [
    {
     "data": {
      "text/html": [
       "<div>\n",
       "<style scoped>\n",
       "    .dataframe tbody tr th:only-of-type {\n",
       "        vertical-align: middle;\n",
       "    }\n",
       "\n",
       "    .dataframe tbody tr th {\n",
       "        vertical-align: top;\n",
       "    }\n",
       "\n",
       "    .dataframe thead th {\n",
       "        text-align: right;\n",
       "    }\n",
       "</style>\n",
       "<table border=\"1\" class=\"dataframe\">\n",
       "  <thead>\n",
       "    <tr style=\"text-align: right;\">\n",
       "      <th></th>\n",
       "      <th>temperature</th>\n",
       "      <th>windSpeed</th>\n",
       "      <th>windDirection</th>\n",
       "      <th>humidity</th>\n",
       "      <th>rainfall</th>\n",
       "      <th>pressure</th>\n",
       "      <th>date</th>\n",
       "    </tr>\n",
       "  </thead>\n",
       "  <tbody>\n",
       "    <tr>\n",
       "      <th>count</th>\n",
       "      <td>17.000000</td>\n",
       "      <td>17.000000</td>\n",
       "      <td>17.000000</td>\n",
       "      <td>17.000000</td>\n",
       "      <td>17.0</td>\n",
       "      <td>17.000000</td>\n",
       "      <td>17</td>\n",
       "    </tr>\n",
       "    <tr>\n",
       "      <th>mean</th>\n",
       "      <td>13.000000</td>\n",
       "      <td>11.117647</td>\n",
       "      <td>129.705882</td>\n",
       "      <td>84.529412</td>\n",
       "      <td>0.0</td>\n",
       "      <td>1020.764706</td>\n",
       "      <td>2024-08-11 00:00:00</td>\n",
       "    </tr>\n",
       "    <tr>\n",
       "      <th>min</th>\n",
       "      <td>12.000000</td>\n",
       "      <td>7.000000</td>\n",
       "      <td>90.000000</td>\n",
       "      <td>80.000000</td>\n",
       "      <td>0.0</td>\n",
       "      <td>1020.000000</td>\n",
       "      <td>2024-08-11 00:00:00</td>\n",
       "    </tr>\n",
       "    <tr>\n",
       "      <th>25%</th>\n",
       "      <td>13.000000</td>\n",
       "      <td>9.000000</td>\n",
       "      <td>135.000000</td>\n",
       "      <td>83.000000</td>\n",
       "      <td>0.0</td>\n",
       "      <td>1020.000000</td>\n",
       "      <td>2024-08-11 00:00:00</td>\n",
       "    </tr>\n",
       "    <tr>\n",
       "      <th>50%</th>\n",
       "      <td>13.000000</td>\n",
       "      <td>11.000000</td>\n",
       "      <td>135.000000</td>\n",
       "      <td>84.000000</td>\n",
       "      <td>0.0</td>\n",
       "      <td>1021.000000</td>\n",
       "      <td>2024-08-11 00:00:00</td>\n",
       "    </tr>\n",
       "    <tr>\n",
       "      <th>75%</th>\n",
       "      <td>13.000000</td>\n",
       "      <td>13.000000</td>\n",
       "      <td>135.000000</td>\n",
       "      <td>86.000000</td>\n",
       "      <td>0.0</td>\n",
       "      <td>1021.000000</td>\n",
       "      <td>2024-08-11 00:00:00</td>\n",
       "    </tr>\n",
       "    <tr>\n",
       "      <th>max</th>\n",
       "      <td>14.000000</td>\n",
       "      <td>15.000000</td>\n",
       "      <td>135.000000</td>\n",
       "      <td>89.000000</td>\n",
       "      <td>0.0</td>\n",
       "      <td>1022.000000</td>\n",
       "      <td>2024-08-11 00:00:00</td>\n",
       "    </tr>\n",
       "    <tr>\n",
       "      <th>std</th>\n",
       "      <td>0.612372</td>\n",
       "      <td>2.057983</td>\n",
       "      <td>14.944751</td>\n",
       "      <td>2.452490</td>\n",
       "      <td>0.0</td>\n",
       "      <td>0.562296</td>\n",
       "      <td>NaN</td>\n",
       "    </tr>\n",
       "  </tbody>\n",
       "</table>\n",
       "</div>"
      ],
      "text/plain": [
       "       temperature  windSpeed  windDirection   humidity  rainfall  \\\n",
       "count    17.000000  17.000000      17.000000  17.000000      17.0   \n",
       "mean     13.000000  11.117647     129.705882  84.529412       0.0   \n",
       "min      12.000000   7.000000      90.000000  80.000000       0.0   \n",
       "25%      13.000000   9.000000     135.000000  83.000000       0.0   \n",
       "50%      13.000000  11.000000     135.000000  84.000000       0.0   \n",
       "75%      13.000000  13.000000     135.000000  86.000000       0.0   \n",
       "max      14.000000  15.000000     135.000000  89.000000       0.0   \n",
       "std       0.612372   2.057983      14.944751   2.452490       0.0   \n",
       "\n",
       "          pressure                 date  \n",
       "count    17.000000                   17  \n",
       "mean   1020.764706  2024-08-11 00:00:00  \n",
       "min    1020.000000  2024-08-11 00:00:00  \n",
       "25%    1020.000000  2024-08-11 00:00:00  \n",
       "50%    1021.000000  2024-08-11 00:00:00  \n",
       "75%    1021.000000  2024-08-11 00:00:00  \n",
       "max    1022.000000  2024-08-11 00:00:00  \n",
       "std       0.562296                  NaN  "
      ]
     },
     "execution_count": 3,
     "metadata": {},
     "output_type": "execute_result"
    }
   ],
   "source": [
    "# The summary statistics for the numerical columns in the dataset.\n",
    "data.describe()"
   ]
  },
  {
   "cell_type": "code",
   "execution_count": 4,
   "metadata": {},
   "outputs": [
    {
     "name": "stdout",
     "output_type": "stream",
     "text": [
      "<class 'pandas.core.frame.DataFrame'>\n",
      "RangeIndex: 17 entries, 0 to 16\n",
      "Data columns (total 15 columns):\n",
      " #   Column                 Non-Null Count  Dtype         \n",
      "---  ------                 --------------  -----         \n",
      " 0   name                   17 non-null     object        \n",
      " 1   temperature            17 non-null     int64         \n",
      " 2   symbol                 17 non-null     object        \n",
      " 3   weatherDescription     17 non-null     object        \n",
      " 4   text                   17 non-null     object        \n",
      " 5   windSpeed              17 non-null     int64         \n",
      " 6   windGust               17 non-null     object        \n",
      " 7   cardinalWindDirection  17 non-null     object        \n",
      " 8   windDirection          17 non-null     int64         \n",
      " 9   humidity               17 non-null     int64         \n",
      " 10  rainfall               17 non-null     int64         \n",
      " 11  pressure               17 non-null     int64         \n",
      " 12  dayName                17 non-null     object        \n",
      " 13  date                   17 non-null     datetime64[ns]\n",
      " 14  reportTime             17 non-null     object        \n",
      "dtypes: datetime64[ns](1), int64(6), object(8)\n",
      "memory usage: 2.1+ KB\n"
     ]
    }
   ],
   "source": [
    "data.info()"
   ]
  },
  {
   "cell_type": "markdown",
   "metadata": {},
   "source": [
    "#### The dataset records weather observations for Athenry on 2024-08-11, including the following:\n",
    "\n",
    "Temperature: Mean 13°C (range: 12–14°C), showing little variation.<br>\n",
    "Wind Speed: Average 11.1 m/s (range: 7–15 m/s) with moderate fluctuations.<br>\n",
    "Wind Direction: Primarily Southeast (mean 129.7°).<br>\n",
    "Humidity: High, averaging 84.5% (range: 80–89%).<br>\n",
    "Rainfall: No rainfall recorded.<br>\n",
    "Pressure: Stable, averaging 1020.8 hPa (range: 1020–1022 hPa).<br>\n",
    "The day was consistently cloudy with no significant weather changes.<br>"
   ]
  },
  {
   "cell_type": "markdown",
   "metadata": {},
   "source": [
    "## End."
   ]
  },
  {
   "cell_type": "markdown",
   "metadata": {},
   "source": []
  }
 ],
 "metadata": {
  "kernelspec": {
   "display_name": "base",
   "language": "python",
   "name": "python3"
  },
  "language_info": {
   "codemirror_mode": {
    "name": "ipython",
    "version": 3
   },
   "file_extension": ".py",
   "mimetype": "text/x-python",
   "name": "python",
   "nbconvert_exporter": "python",
   "pygments_lexer": "ipython3",
   "version": "3.11.5"
  }
 },
 "nbformat": 4,
 "nbformat_minor": 2
}
